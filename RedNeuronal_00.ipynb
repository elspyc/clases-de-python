{
  "nbformat": 4,
  "nbformat_minor": 0,
  "metadata": {
    "colab": {
      "provenance": [],
      "include_colab_link": true
    },
    "kernelspec": {
      "name": "python3",
      "display_name": "Python 3"
    },
    "language_info": {
      "name": "python"
    }
  },
  "cells": [
    {
      "cell_type": "markdown",
      "metadata": {
        "id": "view-in-github",
        "colab_type": "text"
      },
      "source": [
        "<a href=\"https://colab.research.google.com/github/elspyc/clases-de-python/blob/main/RedNeuronal_00.ipynb\" target=\"_parent\"><img src=\"https://colab.research.google.com/assets/colab-badge.svg\" alt=\"Open In Colab\"/></a>"
      ]
    },
    {
      "cell_type": "code",
      "execution_count": null,
      "metadata": {
        "id": "7iWyKVJgLm7n"
      },
      "outputs": [],
      "source": [
        "import tensorflow as tf  #Libreria de IA adiseñada por google\n",
        "import numpy as np #Facilita el trabajo con arreglos numericos"
      ]
    },
    {
      "cell_type": "code",
      "source": [
        "#declarar valores de entrada \n",
        "celsius = np.array([-40, -10, 0, 8, 15, 22, 38], dtype = float)\n",
        "fahrenheit = np.array([-40, 14, 32, 46, 59, 72, 100], dtype = float)"
      ],
      "metadata": {
        "id": "15ISd1qnMKW4"
      },
      "execution_count": null,
      "outputs": []
    },
    {
      "cell_type": "code",
      "source": [
        "#Capas\n",
        "#keras facilita el trabajo con redes neuronales (ahorra codigo)\n",
        "capa = tf.keras.layers.Dense(units=1, input_shape=[1])\n",
        "\n",
        "modelo = tf.keras.Sequential([capa])"
      ],
      "metadata": {
        "id": "0K2O5XF3MtCC"
      },
      "execution_count": null,
      "outputs": []
    },
    {
      "cell_type": "code",
      "source": [
        "#Empezar el entrenamiento\n",
        "modelo.compile(\n",
        "    #declaramos un optimizador que nos va a dar ajustes de peso y sesgo\n",
        "    optimizer = tf.keras.optimizers.Adam(0.1),\n",
        "    #calculo del error\n",
        "    loss = 'mean_squared_error'\n",
        ")"
      ],
      "metadata": {
        "id": "yVN5SRDqNrwS"
      },
      "execution_count": null,
      "outputs": []
    },
    {
      "cell_type": "code",
      "source": [
        "print('Comenzando el entrenamiento')\n",
        "historial = modelo.fit(celsius, fahrenheit, epochs=1000, verbose=False)\n",
        "print('Modelo entrenado 😈')"
      ],
      "metadata": {
        "colab": {
          "base_uri": "https://localhost:8080/"
        },
        "id": "dOqKx3VyO122",
        "outputId": "19919646-b1f3-48e5-a080-f4ad458e5547"
      },
      "execution_count": null,
      "outputs": [
        {
          "output_type": "stream",
          "name": "stdout",
          "text": [
            "Comenzando el entrenamiento\n",
            "Modelo entrenado 😈\n"
          ]
        }
      ]
    },
    {
      "cell_type": "code",
      "source": [
        "#vamos a gráficar el error\n",
        "import matplotlib.pyplot as plt\n",
        "plt.xlabel('# Pasos')\n",
        "plt.ylabel('magnitud de perdida')\n",
        "plt.plot (historial.history['loss'])\n"
      ],
      "metadata": {
        "colab": {
          "base_uri": "https://localhost:8080/",
          "height": 300
        },
        "id": "BP57Fh-WPz3Y",
        "outputId": "50f4177d-2b9a-4f65-8cc7-1c2db3048e6d"
      },
      "execution_count": null,
      "outputs": [
        {
          "output_type": "execute_result",
          "data": {
            "text/plain": [
              "[<matplotlib.lines.Line2D at 0x7f94a02c60a0>]"
            ]
          },
          "metadata": {},
          "execution_count": 7
        },
        {
          "output_type": "display_data",
          "data": {
            "text/plain": [
              "<Figure size 432x288 with 1 Axes>"
            ],
            "image/png": "[encoded data removed]"
          },
          "metadata": {
            "needs_background": "light"
          }
        }
      ]
    },
    {
      "cell_type": "code",
      "source": [
        "#Hacemos una predicción\n",
        "print('Hgamos una predicción')\n",
        "resultado = modelo.predict([100.00])\n",
        "print(f'El resultado es {resultado}' + 'Fahrenheit')"
      ],
      "metadata": {
        "colab": {
          "base_uri": "https://localhost:8080/"
        },
        "id": "h-G8aokFRvs5",
        "outputId": "ff1051f0-2395-4f4d-902e-9e9d2d8e7f0d"
      },
      "execution_count": null,
      "outputs": [
        {
          "output_type": "stream",
          "name": "stdout",
          "text": [
            "Hgamos una predicción\n",
            "1/1 [==============================] - 0s 100ms/step\n",
            "El resultado es [[211.74045]]Fahrenheit\n"
          ]
        }
      ]
    },
    {
      "cell_type": "code",
      "source": [
        "#Variables asignadas\n",
        "print('Variables del modelo')\n",
        "print(capa.get_weights())"
      ],
      "metadata": {
        "colab": {
          "base_uri": "https://localhost:8080/"
        },
        "id": "G1cALhL4ScLF",
        "outputId": "faf9ca71-55ab-454b-d26c-fa085083e511"
      },
      "execution_count": null,
      "outputs": [
        {
          "output_type": "stream",
          "name": "stdout",
          "text": [
            "Variables del modelo\n",
            "[array([[1.7984053]], dtype=float32), array([31.899923], dtype=float32)]\n"
          ]
        }
      ]
    }
  ]
}